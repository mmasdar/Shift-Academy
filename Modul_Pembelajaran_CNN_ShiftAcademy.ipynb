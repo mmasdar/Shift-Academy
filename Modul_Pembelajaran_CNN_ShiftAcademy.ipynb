{
  "nbformat": 4,
  "nbformat_minor": 0,
  "metadata": {
    "kernelspec": {
      "display_name": "Python 3",
      "language": "python",
      "name": "python3"
    },
    "language_info": {
      "codemirror_mode": {
        "name": "ipython",
        "version": 3
      },
      "file_extension": ".py",
      "mimetype": "text/x-python",
      "name": "python",
      "nbconvert_exporter": "python",
      "pygments_lexer": "ipython3",
      "version": "3.7.7"
    },
    "colab": {
      "name": "Modul Pembelajaran CNN ShiftAcademy.ipynb",
      "provenance": []
    },
    "accelerator": "GPU"
  },
  "cells": [
    {
      "cell_type": "markdown",
      "metadata": {
        "id": "3l0gGlPE2U_h",
        "colab_type": "text"
      },
      "source": [
        "# RANCANG BANGUN ARSITEKTUR CONVOLUTIONAL NEURAL NETWORK \n",
        "## ShiftAcademy Deep Learning Course\n",
        "\n"
      ]
    },
    {
      "cell_type": "markdown",
      "metadata": {
        "id": "zaptPDtu2oM3",
        "colab_type": "text"
      },
      "source": [
        "## Import Libary yang akan digunakan"
      ]
    },
    {
      "cell_type": "code",
      "metadata": {
        "id": "wkJUxi-UD7V-",
        "colab_type": "code",
        "colab": {}
      },
      "source": [
        "!pip install keras==2.3.1\n",
        "!pip install tensorflow==2.1.0"
      ],
      "execution_count": null,
      "outputs": []
    },
    {
      "cell_type": "code",
      "metadata": {
        "id": "RWkPg_JFpE1b",
        "colab_type": "code",
        "colab": {
          "base_uri": "https://localhost:8080/",
          "height": 34
        },
        "outputId": "e0c0792f-f4a0-42b2-b878-a6ec19e91361"
      },
      "source": [
        "import warnings\n",
        "warnings.filterwarnings(\"ignore\")\n",
        "\n",
        "import os\n",
        "import glob\n",
        "import matplotlib.pyplot as plt\n",
        "\n",
        "import tensorflow\n",
        "\n",
        "import keras\n",
        "from keras.models import Sequential\n",
        "from keras.layers import Dense, Flatten, Dropout\n",
        "from keras.layers import Conv2D,MaxPooling2D,Activation,AveragePooling2D,BatchNormalization\n",
        "from keras.preprocessing.image import ImageDataGenerator\n",
        "from keras.preprocessing import image\n",
        "from PIL import ImageTk, Image\n",
        "import numpy as np"
      ],
      "execution_count": null,
      "outputs": [
        {
          "output_type": "stream",
          "text": [
            "Using TensorFlow backend.\n"
          ],
          "name": "stderr"
        }
      ]
    },
    {
      "cell_type": "code",
      "metadata": {
        "id": "muuqhrUx9Jib",
        "colab_type": "code",
        "colab": {}
      },
      "source": [
        "# Set default random number\n",
        "\n",
        "from numpy.random import seed\n",
        "import random\n",
        "#from tensorflow import set_random_seed\n",
        "\n",
        "random.seed(1)\n",
        "seed(1)\n",
        "#set_random_seed(1)"
      ],
      "execution_count": null,
      "outputs": []
    },
    {
      "cell_type": "code",
      "metadata": {
        "id": "jo1sLlkdJ2X6",
        "colab_type": "code",
        "colab": {
          "base_uri": "https://localhost:8080/",
          "height": 357
        },
        "outputId": "4dbbcd0f-7866-4a64-afc3-4cf23512c40e"
      },
      "source": [
        "!nvidia-smi"
      ],
      "execution_count": null,
      "outputs": [
        {
          "output_type": "stream",
          "text": [
            "Thu Aug  6 14:16:32 2020       \n",
            "+-----------------------------------------------------------------------------+\n",
            "| NVIDIA-SMI 450.57       Driver Version: 418.67       CUDA Version: 10.1     |\n",
            "|-------------------------------+----------------------+----------------------+\n",
            "| GPU  Name        Persistence-M| Bus-Id        Disp.A | Volatile Uncorr. ECC |\n",
            "| Fan  Temp  Perf  Pwr:Usage/Cap|         Memory-Usage | GPU-Util  Compute M. |\n",
            "|                               |                      |               MIG M. |\n",
            "|===============================+======================+======================|\n",
            "|   0  Tesla K80           Off  | 00000000:00:04.0 Off |                    0 |\n",
            "| N/A   53C    P8    31W / 149W |      0MiB / 11441MiB |      0%      Default |\n",
            "|                               |                      |                 ERR! |\n",
            "+-------------------------------+----------------------+----------------------+\n",
            "                                                                               \n",
            "+-----------------------------------------------------------------------------+\n",
            "| Processes:                                                                  |\n",
            "|  GPU   GI   CI        PID   Type   Process name                  GPU Memory |\n",
            "|        ID   ID                                                   Usage      |\n",
            "|=============================================================================|\n",
            "|  No running processes found                                                 |\n",
            "+-----------------------------------------------------------------------------+\n"
          ],
          "name": "stdout"
        }
      ]
    },
    {
      "cell_type": "markdown",
      "metadata": {
        "id": "jj39vC2j3LVw",
        "colab_type": "text"
      },
      "source": [
        "# Pre-Processing Citra"
      ]
    },
    {
      "cell_type": "markdown",
      "metadata": {
        "id": "lmlw3qcN2r-c",
        "colab_type": "text"
      },
      "source": [
        "## Loading data dari GDrive"
      ]
    },
    {
      "cell_type": "code",
      "metadata": {
        "id": "j3Th9WlXBfdi",
        "colab_type": "code",
        "colab": {
          "base_uri": "https://localhost:8080/",
          "height": 122
        },
        "outputId": "3ce94a12-d66a-4461-bb56-b7c82bf0a1de"
      },
      "source": [
        "from google.colab import drive\n",
        "drive.mount('/content/drive')"
      ],
      "execution_count": null,
      "outputs": [
        {
          "output_type": "stream",
          "text": [
            "Go to this URL in a browser: https://accounts.google.com/o/oauth2/auth?client_id=947318989803-6bn6qk8qdgf4n4g3pfee6491hc0brc4i.apps.googleusercontent.com&redirect_uri=urn%3aietf%3awg%3aoauth%3a2.0%3aoob&response_type=code&scope=email%20https%3a%2f%2fwww.googleapis.com%2fauth%2fdocs.test%20https%3a%2f%2fwww.googleapis.com%2fauth%2fdrive%20https%3a%2f%2fwww.googleapis.com%2fauth%2fdrive.photos.readonly%20https%3a%2f%2fwww.googleapis.com%2fauth%2fpeopleapi.readonly\n",
            "\n",
            "Enter your authorization code:\n",
            "··········\n",
            "Mounted at /content/drive\n"
          ],
          "name": "stdout"
        }
      ]
    },
    {
      "cell_type": "code",
      "metadata": {
        "id": "ZSuVmkHNKQyM",
        "colab_type": "code",
        "colab": {}
      },
      "source": [
        "# Loading dataset 2 Kelas klasifikasi\n",
        "train_dir = '/content/drive/My Drive/Data Warehouse/dataset_apel_tomat/train'\n",
        "val_dir   = '/content/drive/My Drive/Data Warehouse/dataset_apel_tomat/val'\n",
        "test_dir  = '/content/drive/My Drive/Data Warehouse/dataset_apel_tomat/test'"
      ],
      "execution_count": null,
      "outputs": []
    },
    {
      "cell_type": "markdown",
      "metadata": {
        "id": "JISuL7X72vTS",
        "colab_type": "text"
      },
      "source": [
        "## Menghitung jumlah data"
      ]
    },
    {
      "cell_type": "markdown",
      "metadata": {
        "id": "mu4OE0AlDNJt",
        "colab_type": "text"
      },
      "source": [
        "### Membuat fungsi"
      ]
    },
    {
      "cell_type": "code",
      "metadata": {
        "id": "Gx3QxMN9WSw8",
        "colab_type": "code",
        "colab": {}
      },
      "source": [
        "def get_files(directory):\n",
        "  if not os.path.exists(directory):\n",
        "    return 0\n",
        "  count = 0\n",
        "  for current_path,dirs,files in os.walk(directory):\n",
        "    for dr in dirs:\n",
        "      count += len(glob.glob(os.path.join(current_path,dr+\"/*\")))\n",
        "  return count"
      ],
      "execution_count": null,
      "outputs": []
    },
    {
      "cell_type": "markdown",
      "metadata": {
        "id": "v9xyUUvgDhx9",
        "colab_type": "text"
      },
      "source": [
        "### menghitung data dalam folder"
      ]
    },
    {
      "cell_type": "code",
      "metadata": {
        "id": "6jXsICYEWTFO",
        "colab_type": "code",
        "colab": {
          "base_uri": "https://localhost:8080/",
          "height": 85
        },
        "outputId": "b4223a9f-e1ee-462e-cc6a-bacf2aa091e3"
      },
      "source": [
        "train_samples = get_files(train_dir)\n",
        "val_samples = get_files(val_dir)\n",
        "test_samples = get_files(test_dir)\n",
        "\n",
        "num_classes = len(glob.glob(train_dir+\"/*\"))\n",
        "\n",
        "print(train_samples, \"Data Training\")\n",
        "print(val_samples, \"Data Validation\")\n",
        "print(test_samples, \"Data Testing\")\n",
        "print(num_classes, \"Kelas (Daun Tomat dan Daun Apel\")"
      ],
      "execution_count": null,
      "outputs": [
        {
          "output_type": "stream",
          "text": [
            "2266 Data Training\n",
            "647 Data Validation\n",
            "323 Data Testing\n",
            "2 Kelas (Daun Tomat dan Daun Apel\n"
          ],
          "name": "stdout"
        }
      ]
    },
    {
      "cell_type": "markdown",
      "metadata": {
        "id": "Ftzg9ddp2zph",
        "colab_type": "text"
      },
      "source": [
        "## Preprocessing data."
      ]
    },
    {
      "cell_type": "code",
      "metadata": {
        "id": "QlCWx702WTUh",
        "colab_type": "code",
        "colab": {}
      },
      "source": [
        "train_datagen=ImageDataGenerator(rescale=1./255,\n",
        "                                   shear_range=0.2,\n",
        "                                   zoom_range=0.2,\n",
        "                                   #validation_split=0.2, # validation split 20%.\n",
        "                                   horizontal_flip=True)\n",
        "\n",
        "test_datagen=ImageDataGenerator(rescale=1./255)"
      ],
      "execution_count": null,
      "outputs": []
    },
    {
      "cell_type": "markdown",
      "metadata": {
        "id": "o-l6jvBu23iD",
        "colab_type": "text"
      },
      "source": [
        "## Mengatur Ukuran serta warna dari input\n"
      ]
    },
    {
      "cell_type": "code",
      "metadata": {
        "id": "axwOiy58awyI",
        "colab_type": "code",
        "colab": {
          "base_uri": "https://localhost:8080/",
          "height": 68
        },
        "outputId": "1818a6a7-99b2-4334-90f0-3fec3a3e913d"
      },
      "source": [
        "img_width,img_height = 400,400\n",
        "input_shape = (img_width, img_height,1)\n",
        "batch_size = 32\n",
        "\n",
        "train_generator = train_datagen.flow_from_directory(train_dir,\n",
        "                                                    target_size=(img_width,img_height),\n",
        "                                                    batch_size=batch_size,\n",
        "                                                    color_mode='grayscale')\n",
        "\n",
        "test_generator = train_datagen.flow_from_directory(test_dir,\n",
        "                                                  target_size=(img_width,img_height),\n",
        "                                                  batch_size=batch_size,\n",
        "                                                  color_mode='grayscale')\n",
        "\n",
        "val_generator = train_datagen.flow_from_directory(val_dir,\n",
        "                                                  target_size = (img_height, img_width),\n",
        "                                                  batch_size = batch_size,\n",
        "                                                  color_mode='grayscale')"
      ],
      "execution_count": null,
      "outputs": [
        {
          "output_type": "stream",
          "text": [
            "Found 2266 images belonging to 2 classes.\n",
            "Found 323 images belonging to 2 classes.\n",
            "Found 647 images belonging to 2 classes.\n"
          ],
          "name": "stdout"
        }
      ]
    },
    {
      "cell_type": "code",
      "metadata": {
        "id": "RoRgLP3QWPLI",
        "colab_type": "code",
        "colab": {
          "base_uri": "https://localhost:8080/",
          "height": 34
        },
        "outputId": "e7db8d52-14b6-494f-c1af-aff30b2b7fc4"
      },
      "source": [
        "# Label pada masing-masing kelas\n",
        "train_generator.class_indices"
      ],
      "execution_count": null,
      "outputs": [
        {
          "output_type": "execute_result",
          "data": {
            "text/plain": [
              "{'apel': 0, 'tomat': 1}"
            ]
          },
          "metadata": {
            "tags": []
          },
          "execution_count": 11
        }
      ]
    },
    {
      "cell_type": "markdown",
      "metadata": {
        "id": "ekjkoQ8G3DFC",
        "colab_type": "text"
      },
      "source": [
        "# Arsitektur Convolutional Neural Network"
      ]
    },
    {
      "cell_type": "code",
      "metadata": {
        "id": "tGiFAPUuo1Cu",
        "colab_type": "code",
        "colab": {
          "base_uri": "https://localhost:8080/",
          "height": 425
        },
        "outputId": "d1be0f69-e7f2-448d-92c8-bbfc0ff435e4"
      },
      "source": [
        "model = Sequential()\n",
        "model.add(Conv2D(16, (7,7), padding='same', input_shape=input_shape, activation='relu'))\n",
        "model.add(MaxPooling2D(pool_size=(2,2)))\n",
        "\n",
        "#model.add(Conv2D(32, (3,3), padding='same', activation='relu'))\n",
        "model.add(MaxPooling2D(pool_size=(2,2)))\n",
        "\n",
        "#model.add(Conv2D(64, (3,3), padding='same', activation='relu'))\n",
        "model.add(MaxPooling2D(pool_size=(2,2)))\n",
        "\n",
        "#model.add(Conv2D(128, (3,3), padding='same', activation='relu'))\n",
        "model.add(MaxPooling2D(pool_size=(2,2)))\n",
        "\n",
        "model.add(Flatten())\n",
        "#model.add(Dense(256, activation='relu'))\n",
        "model.add(Dense(64, activation='relu'))\n",
        "model.add(Dense(num_classes, activation='softmax'))\n",
        "\n",
        "model.summary()\n"
      ],
      "execution_count": null,
      "outputs": [
        {
          "output_type": "stream",
          "text": [
            "Model: \"sequential_3\"\n",
            "_________________________________________________________________\n",
            "Layer (type)                 Output Shape              Param #   \n",
            "=================================================================\n",
            "conv2d_6 (Conv2D)            (None, 400, 400, 16)      800       \n",
            "_________________________________________________________________\n",
            "max_pooling2d_9 (MaxPooling2 (None, 200, 200, 16)      0         \n",
            "_________________________________________________________________\n",
            "max_pooling2d_10 (MaxPooling (None, 100, 100, 16)      0         \n",
            "_________________________________________________________________\n",
            "max_pooling2d_11 (MaxPooling (None, 50, 50, 16)        0         \n",
            "_________________________________________________________________\n",
            "max_pooling2d_12 (MaxPooling (None, 25, 25, 16)        0         \n",
            "_________________________________________________________________\n",
            "flatten_3 (Flatten)          (None, 10000)             0         \n",
            "_________________________________________________________________\n",
            "dense_6 (Dense)              (None, 64)                640064    \n",
            "_________________________________________________________________\n",
            "dense_7 (Dense)              (None, 2)                 130       \n",
            "=================================================================\n",
            "Total params: 640,994\n",
            "Trainable params: 640,994\n",
            "Non-trainable params: 0\n",
            "_________________________________________________________________\n"
          ],
          "name": "stdout"
        }
      ]
    },
    {
      "cell_type": "markdown",
      "metadata": {
        "id": "cSZLTMkp2LcQ",
        "colab_type": "text"
      },
      "source": [
        "# Visualisasi Citra setelah melalui filter"
      ]
    },
    {
      "cell_type": "markdown",
      "metadata": {
        "id": "o43pHoOP3b9_",
        "colab_type": "text"
      },
      "source": [
        "## Import 1 citra sebagai input filter"
      ]
    },
    {
      "cell_type": "code",
      "metadata": {
        "id": "i3CK5-rt1lz9",
        "colab_type": "code",
        "colab": {
          "base_uri": "https://localhost:8080/",
          "height": 69
        },
        "outputId": "2e7780a3-f520-4b9d-893d-94196c4c91b2"
      },
      "source": [
        "\"\"\"\n",
        "img1 = image.load_img('D:/BERKAS  MASDAR/Model UBNet/dataset_apel_tomat/train/apel/00a6039c-e425-4f7d-81b1-d6b0e668517e___RS_HL 7669.jpg')\n",
        "plt.imshow(img1);\n",
        "\n",
        "# pre-processing citra\n",
        "img1 = image.load_img('D:/BERKAS  MASDAR/Model UBNet/dataset_apel_tomat/train/apel/00a6039c-e425-4f7d-81b1-d6b0e668517e___RS_HL 7669.jpg', target_size=(400,400,1), color_mode='grayscale')\n",
        "img = image.img_to_array(img1)\n",
        "img = img/255\n",
        "img = np.expand_dims(img, axis=0)\n",
        "\n",
        "print(img)\n",
        "\"\"\""
      ],
      "execution_count": null,
      "outputs": [
        {
          "output_type": "execute_result",
          "data": {
            "application/vnd.google.colaboratory.intrinsic+json": {
              "type": "string"
            },
            "text/plain": [
              "\"\\nimg1 = image.load_img('D:/BERKAS  MASDAR/Model UBNet/dataset_apel_tomat/train/apel/00a6039c-e425-4f7d-81b1-d6b0e668517e___RS_HL 7669.jpg')\\nplt.imshow(img1);\\n\\n# pre-processing citra\\nimg1 = image.load_img('D:/BERKAS  MASDAR/Model UBNet/dataset_apel_tomat/train/apel/00a6039c-e425-4f7d-81b1-d6b0e668517e___RS_HL 7669.jpg', target_size=(400,400,1), color_mode='grayscale')\\nimg = image.img_to_array(img1)\\nimg = img/255\\nimg = np.expand_dims(img, axis=0)\\n\\nprint(img)\\n\""
            ]
          },
          "metadata": {
            "tags": []
          },
          "execution_count": 13
        }
      ]
    },
    {
      "cell_type": "markdown",
      "metadata": {
        "id": "Z403QPCH4O96",
        "colab_type": "text"
      },
      "source": [
        "## Process Filtering"
      ]
    },
    {
      "cell_type": "code",
      "metadata": {
        "id": "GDHaHE3U4R9G",
        "colab_type": "code",
        "colab": {
          "base_uri": "https://localhost:8080/",
          "height": 52
        },
        "outputId": "75a2ad53-6c56-4e0c-d493-04fc3630765b"
      },
      "source": [
        "\"\"\"\n",
        "from keras.models import Model\n",
        "conv2d_1_output = Model(inputs=model.input, output=model.get_layer('conv2d_1').output)\n",
        "conv2d_1_features = conv2d_1_output.predict(img)\n",
        "\"\"\""
      ],
      "execution_count": null,
      "outputs": [
        {
          "output_type": "execute_result",
          "data": {
            "application/vnd.google.colaboratory.intrinsic+json": {
              "type": "string"
            },
            "text/plain": [
              "\"\\nfrom keras.models import Model\\nconv2d_1_output = Model(inputs=model.input, output=model.get_layer('conv2d_1').output)\\nconv2d_1_features = conv2d_1_output.predict(img)\\n\""
            ]
          },
          "metadata": {
            "tags": []
          },
          "execution_count": 14
        }
      ]
    },
    {
      "cell_type": "markdown",
      "metadata": {
        "id": "6flAjOD84zKS",
        "colab_type": "text"
      },
      "source": [
        "## Visualisasi terhadap citra"
      ]
    },
    {
      "cell_type": "code",
      "metadata": {
        "id": "gzRviEaJ42-3",
        "colab_type": "code",
        "colab": {
          "base_uri": "https://localhost:8080/",
          "height": 52
        },
        "outputId": "b8591f29-52a1-4e65-a89d-4241f6fe89f1"
      },
      "source": [
        "\"\"\"\n",
        "import matplotlib.image as mpig\n",
        "\n",
        "fig=plt.figure(figsize = (28,14))\n",
        "columns = 8\n",
        "rows = 4\n",
        "\n",
        "for i in range(columns*rows):\n",
        "\n",
        "    fig.add_subplot(rows,columns, i+1)\n",
        "    plt.axis('off')\n",
        "    plt.title('filter'+str(i))\n",
        "    plt.imshow(conv2d_1_features[0, :, :, i], cmap='viridis')\n",
        "plt.show\n",
        "\"\"\""
      ],
      "execution_count": null,
      "outputs": [
        {
          "output_type": "execute_result",
          "data": {
            "application/vnd.google.colaboratory.intrinsic+json": {
              "type": "string"
            },
            "text/plain": [
              "\"\\nimport matplotlib.image as mpig\\n\\nfig=plt.figure(figsize = (28,14))\\ncolumns = 8\\nrows = 4\\n\\nfor i in range(columns*rows):\\n\\n    fig.add_subplot(rows,columns, i+1)\\n    plt.axis('off')\\n    plt.title('filter'+str(i))\\n    plt.imshow(conv2d_1_features[0, :, :, i], cmap='viridis')\\nplt.show\\n\""
            ]
          },
          "metadata": {
            "tags": []
          },
          "execution_count": 15
        }
      ]
    },
    {
      "cell_type": "markdown",
      "metadata": {
        "id": "QQUVh5lz97WE",
        "colab_type": "text"
      },
      "source": [
        "# Training Model CNN"
      ]
    },
    {
      "cell_type": "markdown",
      "metadata": {
        "id": "njyUEPAE-tBO",
        "colab_type": "text"
      },
      "source": [
        "## Training pada Model"
      ]
    },
    {
      "cell_type": "code",
      "metadata": {
        "id": "MK8UQV97-x-t",
        "colab_type": "code",
        "colab": {
          "base_uri": "https://localhost:8080/",
          "height": 357
        },
        "outputId": "845c14fc-6d47-46ce-9153-16caa81c4bef"
      },
      "source": [
        "opt = keras.optimizers.Adam(lr=0.001)\n",
        "model.compile(optimizer=opt,\n",
        "              loss='categorical_crossentropy',\n",
        "              metrics=['accuracy'])\n",
        "\n",
        "train = model.fit_generator(train_generator,\n",
        "                            nb_epoch=10,\n",
        "                            steps_per_epoch=train_generator.samples // batch_size,\n",
        "                            validation_data = val_generator,\n",
        "                            nb_val_samples = val_generator.samples // batch_size, verbose=1)"
      ],
      "execution_count": null,
      "outputs": [
        {
          "output_type": "stream",
          "text": [
            "Epoch 1/10\n",
            "70/70 [==============================] - 72s 1s/step - loss: 0.2340 - accuracy: 0.9051 - val_loss: 0.0729 - val_accuracy: 0.9844\n",
            "Epoch 2/10\n",
            "70/70 [==============================] - 43s 608ms/step - loss: 0.0789 - accuracy: 0.9776 - val_loss: 0.0062 - val_accuracy: 0.9967\n",
            "Epoch 3/10\n",
            "70/70 [==============================] - 43s 608ms/step - loss: 0.0331 - accuracy: 0.9928 - val_loss: 0.0958 - val_accuracy: 0.9854\n",
            "Epoch 4/10\n",
            "70/70 [==============================] - 42s 598ms/step - loss: 0.0271 - accuracy: 0.9942 - val_loss: 0.2007 - val_accuracy: 0.9854\n",
            "Epoch 5/10\n",
            "70/70 [==============================] - 41s 592ms/step - loss: 0.0456 - accuracy: 0.9839 - val_loss: 0.3206 - val_accuracy: 0.9691\n",
            "Epoch 6/10\n",
            "70/70 [==============================] - 41s 590ms/step - loss: 0.0305 - accuracy: 0.9919 - val_loss: 0.0229 - val_accuracy: 0.9935\n",
            "Epoch 7/10\n",
            "70/70 [==============================] - 42s 596ms/step - loss: 0.0268 - accuracy: 0.9924 - val_loss: 0.0405 - val_accuracy: 0.9951\n",
            "Epoch 8/10\n",
            "70/70 [==============================] - 41s 579ms/step - loss: 0.0208 - accuracy: 0.9933 - val_loss: 0.0080 - val_accuracy: 0.9967\n",
            "Epoch 9/10\n",
            "70/70 [==============================] - 40s 569ms/step - loss: 0.0386 - accuracy: 0.9870 - val_loss: 0.0175 - val_accuracy: 0.9951\n",
            "Epoch 10/10\n",
            "70/70 [==============================] - 39s 560ms/step - loss: 0.0654 - accuracy: 0.9772 - val_loss: 0.0038 - val_accuracy: 0.9935\n"
          ],
          "name": "stdout"
        }
      ]
    },
    {
      "cell_type": "markdown",
      "metadata": {
        "id": "w4LEQIBB_qhA",
        "colab_type": "text"
      },
      "source": [
        "# Evaluasi Model"
      ]
    },
    {
      "cell_type": "code",
      "metadata": {
        "id": "iTYUa4zW_n3H",
        "colab_type": "code",
        "colab": {
          "base_uri": "https://localhost:8080/",
          "height": 545
        },
        "outputId": "7da5f34f-34f0-4eb3-a9ed-319ddd6aa8fc"
      },
      "source": [
        "acc = train.history['accuracy']\n",
        "val_acc = train.history['val_accuracy']\n",
        "loss = train.history['loss']\n",
        "val_loss = train.history['val_loss']\n",
        "\n",
        "epochs = range(1, len(acc) + 1)\n",
        "\n",
        "# Akurasi data Training dan Validasi\n",
        "plt.plot(epochs, acc, 'b', label='Akurasi Training')\n",
        "plt.plot(epochs, val_acc, 'r', label='Akurasi Validasi')\n",
        "plt.title('Akurasi Training dan Validasi')\n",
        "plt.legend()\n",
        "\n",
        "plt.figure()\n",
        "# Loss Training dan Validasi\n",
        "plt.plot(epochs, loss, 'b', label='Loss Training')\n",
        "plt.plot(epochs, val_loss, 'r', label='Loss Validasi')\n",
        "plt.title('Loss Training dan Validasi')\n",
        "plt.legend()\n",
        "plt.show()"
      ],
      "execution_count": null,
      "outputs": [
        {
          "output_type": "display_data",
          "data": {
            "image/png": "[encoded data removed]",
            "text/plain": [
              "<Figure size 432x288 with 1 Axes>"
            ]
          },
          "metadata": {
            "tags": [],
            "needs_background": "light"
          }
        },
        {
          "output_type": "display_data",
          "data": {
            "image/png": "[encoded data removed]",
            "text/plain": [
              "<Figure size 432x288 with 1 Axes>"
            ]
          },
          "metadata": {
            "tags": [],
            "needs_background": "light"
          }
        }
      ]
    },
    {
      "cell_type": "code",
      "metadata": {
        "id": "eQAzR5eHBMdE",
        "colab_type": "code",
        "colab": {
          "base_uri": "https://localhost:8080/",
          "height": 68
        },
        "outputId": "db0b2e11-476e-44f0-b589-3fe22036f19c"
      },
      "source": [
        "loss, accuracy = model.evaluate(test_generator, verbose=1)\n",
        "print(\"loss Testing adalah {}\".format(loss))\n",
        "print(\"Akurasi Testing adalah {}\".format(accuracy))"
      ],
      "execution_count": null,
      "outputs": [
        {
          "output_type": "stream",
          "text": [
            "11/11 [==============================] - 1s 122ms/step\n",
            "loss Testing adalah 1.1920926823449918e-07\n",
            "Akurasi Testing adalah 0.9969040155410767\n"
          ],
          "name": "stdout"
        }
      ]
    },
    {
      "cell_type": "code",
      "metadata": {
        "id": "-wdKNlYVo1D2",
        "colab_type": "code",
        "colab": {
          "base_uri": "https://localhost:8080/",
          "height": 51
        },
        "outputId": "3486e409-2e52-4f9c-c5a4-b6a146bd103e"
      },
      "source": [
        "test_generator = test_datagen.flow_from_directory(test_dir,\n",
        "                                                  target_size=(img_width,img_height),\n",
        "                                                  batch_size=batch_size,\n",
        "                                                  color_mode='grayscale',\n",
        "                                                  shuffle=False)\n",
        "\n",
        "resolt = model.predict_classes(test_generator, batch_size=None, verbose=1)"
      ],
      "execution_count": null,
      "outputs": [
        {
          "output_type": "stream",
          "text": [
            "Found 323 images belonging to 2 classes.\n",
            "11/11 [==============================] - 159s 14s/step\n"
          ],
          "name": "stdout"
        }
      ]
    },
    {
      "cell_type": "code",
      "metadata": {
        "id": "4185cW5Eo1D9",
        "colab_type": "code",
        "colab": {
          "base_uri": "https://localhost:8080/",
          "height": 272
        },
        "outputId": "4d70dcd1-5281-4bb6-caaf-208e3d35fc05"
      },
      "source": [
        "resolt\n",
        "#test_generator.classes"
      ],
      "execution_count": null,
      "outputs": [
        {
          "output_type": "execute_result",
          "data": {
            "text/plain": [
              "array([0, 0, 0, 0, 0, 0, 0, 0, 0, 0, 0, 0, 0, 0, 0, 0, 1, 0, 0, 0, 0, 0,\n",
              "       0, 0, 0, 0, 0, 0, 0, 0, 0, 0, 0, 0, 0, 0, 0, 0, 0, 0, 0, 0, 0, 0,\n",
              "       0, 0, 0, 0, 0, 0, 0, 0, 0, 0, 0, 0, 0, 0, 0, 0, 0, 0, 0, 0, 0, 0,\n",
              "       0, 0, 0, 0, 0, 0, 0, 0, 0, 0, 0, 0, 0, 0, 0, 0, 0, 0, 0, 0, 0, 0,\n",
              "       0, 0, 0, 0, 0, 0, 0, 0, 0, 0, 0, 0, 0, 0, 0, 0, 0, 0, 0, 0, 0, 0,\n",
              "       0, 0, 0, 0, 0, 0, 0, 0, 0, 0, 0, 0, 0, 0, 0, 0, 0, 0, 0, 0, 0, 0,\n",
              "       0, 0, 0, 0, 0, 0, 0, 0, 0, 0, 0, 0, 0, 0, 0, 0, 0, 0, 0, 0, 0, 0,\n",
              "       0, 0, 0, 0, 0, 0, 0, 0, 0, 0, 1, 1, 1, 1, 1, 1, 1, 1, 1, 1, 1, 1,\n",
              "       1, 1, 1, 1, 1, 1, 1, 1, 1, 1, 1, 1, 1, 1, 1, 1, 1, 1, 1, 1, 1, 1,\n",
              "       1, 1, 1, 1, 1, 1, 1, 1, 1, 1, 1, 1, 1, 1, 1, 1, 1, 1, 1, 1, 1, 1,\n",
              "       1, 1, 1, 1, 1, 1, 1, 1, 1, 1, 1, 1, 1, 1, 1, 1, 1, 1, 1, 1, 1, 1,\n",
              "       1, 1, 1, 1, 1, 1, 1, 1, 1, 1, 1, 1, 1, 1, 1, 1, 1, 1, 1, 1, 1, 1,\n",
              "       1, 1, 1, 1, 1, 1, 1, 1, 1, 1, 1, 1, 1, 1, 1, 1, 1, 1, 1, 1, 1, 1,\n",
              "       1, 1, 1, 1, 1, 1, 1, 1, 1, 1, 1, 1, 1, 1, 1, 1, 1, 1, 1, 1, 1, 1,\n",
              "       1, 1, 1, 1, 1, 1, 1, 1, 1, 1, 1, 1, 1, 1, 1])"
            ]
          },
          "metadata": {
            "tags": []
          },
          "execution_count": 25
        }
      ]
    },
    {
      "cell_type": "code",
      "metadata": {
        "id": "ivlUDGkIo1ED",
        "colab_type": "code",
        "colab": {
          "base_uri": "https://localhost:8080/",
          "height": 34
        },
        "outputId": "3f591a93-f47a-4d45-a158-0a56959421e6"
      },
      "source": [
        "from sklearn import metrics\n",
        "print(metrics.accuracy_score(test_generator.classes, resolt))"
      ],
      "execution_count": null,
      "outputs": [
        {
          "output_type": "stream",
          "text": [
            "0.9969040247678018\n"
          ],
          "name": "stdout"
        }
      ]
    },
    {
      "cell_type": "markdown",
      "metadata": {
        "id": "1YAORBiXY5nM",
        "colab_type": "text"
      },
      "source": [
        "## Confusion Matrix"
      ]
    },
    {
      "cell_type": "code",
      "metadata": {
        "id": "BT9dsnxlo1EL",
        "colab_type": "code",
        "colab": {
          "base_uri": "https://localhost:8080/",
          "height": 34
        },
        "outputId": "a39146b0-d801-4418-939d-4385aaf7a0dc"
      },
      "source": [
        "test_generator = test_datagen.flow_from_directory(test_dir,\n",
        "                                                  target_size=(img_width,img_height),\n",
        "                                                  batch_size=batch_size,\n",
        "                                                  color_mode='grayscale',\n",
        "                                                  class_mode='binary',\n",
        "                                                  shuffle=False)"
      ],
      "execution_count": null,
      "outputs": [
        {
          "output_type": "stream",
          "text": [
            "Found 323 images belonging to 2 classes.\n"
          ],
          "name": "stdout"
        }
      ]
    },
    {
      "cell_type": "code",
      "metadata": {
        "id": "fwSUJ4g2o1EW",
        "colab_type": "code",
        "colab": {
          "base_uri": "https://localhost:8080/",
          "height": 279
        },
        "outputId": "474307df-5fbf-4a87-aafb-e8457ba17885"
      },
      "source": [
        "import pandas as pd\n",
        "import seaborn as sn\n",
        "import matplotlib.pyplot as plt\n",
        "\n",
        "\n",
        "data = {'y_Actual':    test_generator.classes,\n",
        "        'y_Predicted': resolt\n",
        "        }\n",
        "\n",
        "df = pd.DataFrame(data, columns=['y_Actual','y_Predicted'])\n",
        "confusion_matrix = pd.crosstab(df['y_Actual'], df['y_Predicted'], rownames=['Actual'], colnames=['Predicted'])\n",
        "\n",
        "sn.heatmap(confusion_matrix, annot=True, fmt='.0f')\n",
        "plt.show()"
      ],
      "execution_count": null,
      "outputs": [
        {
          "output_type": "display_data",
          "data": {
            "image/png": "[encoded data removed]",
            "text/plain": [
              "<Figure size 432x288 with 2 Axes>"
            ]
          },
          "metadata": {
            "tags": [],
            "needs_background": "light"
          }
        }
      ]
    },
    {
      "cell_type": "markdown",
      "metadata": {
        "id": "5yF_UfDVR_O-",
        "colab_type": "text"
      },
      "source": [
        "## Menyimpan Weight & Bias Arsitektur Model CNN UBNet\n",
        "\n",
        "Source : https://www.tensorflow.org/guide/keras/save_and_serialize"
      ]
    },
    {
      "cell_type": "code",
      "metadata": {
        "id": "9agYOwc0SLHc",
        "colab_type": "code",
        "colab": {
          "base_uri": "https://localhost:8080/",
          "height": 34
        },
        "outputId": "577a6061-4537-4ef3-8877-ce61ffca22cb"
      },
      "source": [
        "# Menyimpan model yan telah dibangun, meliputi : optimizer, architecture, weights dan konfigurasi training\n",
        "from keras.models import load_model\n",
        "model.save('model_ApTom.h5')\n",
        "\n",
        "# Menyimpan bobot dari model\n",
        "from keras.models import load_model\n",
        "model.save_weights('ApTom_weights.h5')\n",
        "\n",
        "# klasifikasi dari model\n",
        "classes = train_generator.class_indices\n",
        "classes"
      ],
      "execution_count": null,
      "outputs": [
        {
          "output_type": "execute_result",
          "data": {
            "text/plain": [
              "{'apel': 0, 'tomat': 1}"
            ]
          },
          "metadata": {
            "tags": []
          },
          "execution_count": 37
        }
      ]
    },
    {
      "cell_type": "code",
      "metadata": {
        "id": "v1ExgoUOk84C",
        "colab_type": "code",
        "colab": {
          "base_uri": "https://localhost:8080/",
          "height": 34
        },
        "outputId": "b9bba1b0-0d24-4c55-f2ab-f23ff299f76a"
      },
      "source": [
        "print(classes['tomat'])"
      ],
      "execution_count": null,
      "outputs": [
        {
          "output_type": "stream",
          "text": [
            "1\n"
          ],
          "name": "stdout"
        }
      ]
    },
    {
      "cell_type": "markdown",
      "metadata": {
        "id": "8RA0kduFjy7O",
        "colab_type": "text"
      },
      "source": [
        "#Mengunakan Model yang suda dibuat untuk analisis data baru"
      ]
    },
    {
      "cell_type": "code",
      "metadata": {
        "id": "_NzHKwkbo1El",
        "colab_type": "code",
        "colab": {
          "base_uri": "https://localhost:8080/",
          "height": 303
        },
        "outputId": "f407a7a9-498c-4b49-9645-7deddbedb3d4"
      },
      "source": [
        "import numpy as np\n",
        "import matplotlib.pyplot as plt\n",
        "\n",
        "# pre-processing test data sama dengan train data\n",
        "img_width = 400\n",
        "img_height = 400\n",
        "#model.compile(optimizer='adam',loss='categorical_crossentropy',metrics=['accuracy'])\n",
        "\n",
        "from keras.preprocessing import image\n",
        "def prepare(img_path):\n",
        "    img = image.load_img(img_path, target_size=(400,400,1),color_mode='grayscale')\n",
        "    x = image.img_to_array(img)\n",
        "    x = x/255\n",
        "    return np.expand_dims(x, axis=0)\n",
        "\n",
        "result = model.predict_classes([prepare('/content/drive/My Drive/Data Warehouse/dataset_apel_tomat/test/apel/e10f9ab3-4775-4947-920a-d272329ae225___RS_HL 7946.JPG')])\n",
        "result_2 = model.predict([prepare('/content/drive/My Drive/Data Warehouse/dataset_apel_tomat/test/apel/e10f9ab3-4775-4947-920a-d272329ae225___RS_HL 7946.JPG')])\n",
        "disease = image.load_img('/content/drive/My Drive/Data Warehouse/dataset_apel_tomat/test/apel/e10f9ab3-4775-4947-920a-d272329ae225___RS_HL 7946.JPG',target_size=(400,400,1), color_mode='grayscale')\n",
        "plt.imshow(disease)\n",
        "\n",
        "print('Sistem Mendeteksi Citra Daun Apel', result_2[0, 0]*100, '%')\n",
        "print('Sistem Mendeteksi Citra Daun Tomat', result_2[0, 1]*100, '%')\n"
      ],
      "execution_count": null,
      "outputs": [
        {
          "output_type": "stream",
          "text": [
            "Sistem Mendeteksi Citra Daun Apel 99.99094009399414 %\n",
            "Sistem Mendeteksi Citra Daun Tomat 0.009059136209543794 %\n"
          ],
          "name": "stdout"
        },
        {
          "output_type": "display_data",
          "data": {
            "image/png": "[encoded data removed]",
            "text/plain": [
              "<Figure size 432x288 with 1 Axes>"
            ]
          },
          "metadata": {
            "tags": [],
            "needs_background": "light"
          }
        }
      ]
    }
  ]
}